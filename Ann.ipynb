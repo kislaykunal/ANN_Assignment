import numpy as np
from matplotlib import pyplot as plt

def sig(z):
    return 1 / (1 + np.exp(-z))
 

def initPara(inpFt, HidL, outFt):
    W1 = np.random.randn(HidL, inpFt)
    W2 = np.random.randn(outFt, HidL)
    b1 = np.zeros((HidL, 1))
    b2 = np.zeros((outFt, 1))
     
    para = {"W1" : W1, "b1": b1,
                  "W2" : W2, "b2": b2}
    return para

def frwrdProp(X, Y, para):
    m = X.shape[1]
    W1 = para["W1"]
    W2 = para["W2"]
    b1 = para["b1"]
    b2 = para["b2"]
 
    Z1 = np.dot(W1, X) + b1
    A1 = sig(Z1)
    Z2 = np.dot(W2, A1) + b2
    A2 = sig(Z2)
 
    cache = (Z1, A1, W1, b1, Z2, A2, W2, b2)
    logprobs = np.multiply(np.log(A2), Y) + np.multiply(np.log(1 - A2), (1 - Y))
    cost = -np.sum(logprobs) / m
    return cost, cache, A2

def bkwrdProp(X, Y, cache):
    m = X.shape[1]
    (Z1, A1, W1, b1, Z2, A2, W2, b2) = cache
     
    dZ2 = A2 - Y
    dW2 = np.dot(dZ2, A1.T) / m
    db2 = np.sum(dZ2, axis = 1, keepdims = True)
     
    dA1 = np.dot(W2.T, dZ2)
    dZ1 = np.multiply(dA1, A1 * (1- A1))
    dW1 = np.dot(dZ1, X.T) / m
    db1 = np.sum(dZ1, axis = 1, keepdims = True) / m
     
    gradients = {"dZ2": dZ2, "dW2": dW2, "db2": db2,
                 "dZ1": dZ1, "dW1": dW1, "db1": db1}
    return gradients

def updtPara(para, gradients, learningRate):
    para["W1"] = para["W1"] - learningRate * gradients["dW1"]
    para["W2"] = para["W2"] - learningRate * gradients["dW2"]
    para["b1"] = para["b1"] - learningRate * gradients["db1"]
    para["b2"] = para["b2"] - learningRate * gradients["db2"]
    return parameters
 

X = np.array([[0, 0, 1, 1], [0, 1, 0, 1]]) #input
Y = np.array([[0, 1, 1, 0]]) #output
 

HidL = 2
inpFt = X.shape[0]
outFt = Y.shape[0]
para = initPara(inpFt, HidL, outFt)
epoch = 100000
learningRate = 0.01
losses = np.zeros((epoch, 1))
 
for i in range(epoch):
    losses[i, 0], cache, A2 = frwrdProp(X, Y, para)
    gradients = bkwrdProp(X, Y, cache)
    parameters = updtPara(para, gradients, learningRate)
 
# Evaluation
plt.figure()
plt.plot(losses)
plt.xlabel("EPOCHS")
plt.ylabel("Loss value")
plt.show()
 
# Testing
X = np.array([[1, 1, 0, 0], [0, 1, 0, 1]]) #input
cost, _, A2 = forwardPropagation(X, Y, parameters)
prediction = (A2 > 0.5) * 1.0
# print(A2)
print(prediction)
